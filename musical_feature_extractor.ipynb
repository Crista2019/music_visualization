{
 "cells": [
  {
   "cell_type": "code",
   "execution_count": 21,
   "id": "30a230f7",
   "metadata": {},
   "outputs": [],
   "source": [
    "from music21 import *\n",
    "import pickle"
   ]
  },
  {
   "cell_type": "code",
   "execution_count": 3,
   "id": "229b3299",
   "metadata": {},
   "outputs": [],
   "source": [
    "sc = corpus.parse('bach/bwv66.6')\n",
    "sc.show()"
   ]
  },
  {
   "cell_type": "code",
   "execution_count": 37,
   "id": "27811760",
   "metadata": {},
   "outputs": [
    {
     "name": "stdout",
     "output_type": "stream",
     "text": [
      "[['Soprano', {0.0: <music21.note.Note C#>, 0.5: <music21.note.Note B>, 1.0: <music21.note.Note A>, 2.0: <music21.note.Note B>, 4.0: <music21.note.Note C#>, 7.0: <music21.note.Note E>, 5.0: <music21.note.Note C#>, 6.0: <music21.note.Note B>, 8.0: <music21.note.Note A>, 11.0: <music21.note.Note C#>, 9.0: <music21.note.Note A>, 9.5: <music21.note.Note B>, 10.5: <music21.note.Note G#>, 12.5: <music21.note.Note F#>, 15.5: <music21.note.Note A>, 13.0: <music21.note.Note B>, 14.0: <music21.note.Note B>, 16.0: <music21.note.Note F#>, 19.0: <music21.note.Note E>, 17.0: <music21.note.Note A>, 18.0: <music21.note.Note B>, 20.0: <music21.note.Note C#>, 23.0: <music21.note.Note C#>, 21.0: <music21.note.Note A>, 22.0: <music21.note.Note B>, 24.0: <music21.note.Note C#>, 27.0: <music21.note.Note A>, 25.0: <music21.note.Note G#>, 26.0: <music21.note.Note F#>, 28.0: <music21.note.Note G#>, 29.0: <music21.note.Note F#>, 31.0: <music21.note.Note F#>, 34.0: <music21.note.Note F#>, 33.0: <music21.note.Note F#>, 35.5: <music21.note.Note E#>, 37.5: <music21.note.Note F#>}], ['Alto', {0.0: <music21.note.Note E>, 1.0: <music21.note.Note F#>, 2.0: <music21.note.Note E>, 4.0: <music21.note.Note E>, 7.0: <music21.note.Note E>, 5.0: <music21.note.Note E>, 5.5: <music21.note.Note A>, 6.5: <music21.note.Note G#>, 8.5: <music21.note.Note E>, 11.5: <music21.note.Note G#>, 9.0: <music21.note.Note F#>, 9.5: <music21.note.Note G#>, 10.5: <music21.note.Note E#>, 12.5: <music21.note.Note C#>, 15.5: <music21.note.Note F#>, 13.0: <music21.note.Note F#>, 14.0: <music21.note.Note E>, 16.0: <music21.note.Note D#>, 19.0: <music21.note.Note C#>, 17.0: <music21.note.Note C#>, 17.5: <music21.note.Note F#>, 18.5: <music21.note.Note E>, 20.5: <music21.note.Note E>, 23.5: <music21.note.Note A>, 21.0: <music21.note.Note F#>, 22.0: <music21.note.Note F#>, 24.0: <music21.note.Note G#>, 27.0: <music21.note.Note F#>, 25.0: <music21.note.Note F#>, 25.5: <music21.note.Note E#>, 26.5: <music21.note.Note F#>, 28.0: <music21.note.Note F#>, 30.0: <music21.note.Note C#>, 29.0: <music21.note.Note C#>, 29.5: <music21.note.Note D>, 30.5: <music21.note.Note E>, 33.5: <music21.note.Note C#>, 37.0: <music21.note.Note C#>, 33.0: <music21.note.Note B>, 34.5: <music21.note.Note D>, 36.5: <music21.note.Note C#>}], ['Tenor', {0.0: <music21.note.Note A>, 0.5: <music21.note.Note B>, 1.0: <music21.note.Note C#>, 2.0: <music21.note.Note B>, 4.0: <music21.note.Note A>, 7.0: <music21.note.Note B>, 5.0: <music21.note.Note A>, 5.5: <music21.note.Note E>, 6.5: <music21.note.Note E>, 8.0: <music21.note.Note D>, 10.0: <music21.note.Note C#>, 13.0: <music21.note.Note B>, 9.0: <music21.note.Note C#>, 9.5: <music21.note.Note D>, 10.5: <music21.note.Note C#>, 12.0: <music21.note.Note B>, 14.0: <music21.note.Note B>, 17.0: <music21.note.Note F#>, 16.0: <music21.note.Note B>, 18.5: <music21.note.Note C#>, 21.5: <music21.note.Note G#>, 17.5: <music21.note.Note D>, 20.0: <music21.note.Note B>, 22.0: <music21.note.Note D>, 25.0: <music21.note.Note D>, 21.0: <music21.note.Note D>, 24.0: <music21.note.Note C#>, 27.0: <music21.note.Note C#>, 25.5: <music21.note.Note C#>, 26.5: <music21.note.Note C#>, 28.0: <music21.note.Note B>, 30.0: <music21.note.Note C#>, 29.0: <music21.note.Note F#>, 33.0: <music21.note.Note B>, 36.5: <music21.note.Note A#>, 34.0: <music21.note.Note B>, 36.0: <music21.note.Note A#>}], ['Bass', {0.0: <music21.note.Note A>, 0.5: <music21.note.Note G#>, 1.0: <music21.note.Note F#>, 2.0: <music21.note.Note G#>, 4.0: <music21.note.Note A>, 7.0: <music21.note.Note G#>, 5.0: <music21.note.Note A>, 5.5: <music21.note.Note C#>, 6.5: <music21.note.Note E>, 8.5: <music21.note.Note A>, 11.5: <music21.note.Note E#>, 9.0: <music21.note.Note F#>, 9.5: <music21.note.Note B>, 10.5: <music21.note.Note C#>, 12.5: <music21.note.Note F#>, 15.5: <music21.note.Note F#>, 13.0: <music21.note.Note G#>, 13.5: <music21.note.Note F#>, 14.5: <music21.note.Note G#>, 16.0: <music21.note.Note A>, 18.0: <music21.note.Note G#>, 20.5: <music21.note.Note B>, 23.5: <music21.note.Note C#>, 17.0: <music21.note.Note F#>, 20.0: <music21.note.Note A>, 23.0: <music21.note.Note A>, 21.0: <music21.note.Note D>, 22.0: <music21.note.Note B>, 24.0: <music21.note.Note E#>, 27.0: <music21.note.Note F#>, 25.0: <music21.note.Note B>, 25.5: <music21.note.Note C#>, 26.5: <music21.note.Note D>, 28.5: <music21.note.Note C#>, 29.0: <music21.note.Note A#>, 31.0: <music21.note.Note B>, 34.0: <music21.note.Note B>, 33.0: <music21.note.Note D>, 36.0: <music21.note.Note F#>}]]\n"
     ]
    }
   ],
   "source": [
    "parts_to_parse = []\n",
    "for part in sc.parts:\n",
    "    this_part = [] # stores the name followed by a dict of the notes\n",
    "    part_notes = {} # stores the relevant data for notes and rests as a dictionary by offset\n",
    "    running_offset = None\n",
    "    part_name = part[0].partName # Soprano, Alto, etc\n",
    "    this_part.append(part_name)\n",
    "    for el in part.recurse():\n",
    "        if type(el) == stream.Measure:\n",
    "            running_offset = el.offset # sets the offset to the measure we have arrived to\n",
    "        if type(el) == note.Note or type(el) == note.Rest:\n",
    "            running_offset += el.offset # adds the offset the current note exists at\n",
    "            part_notes[running_offset] = el # this is where we store the musical data we care about (this could be a tuple of info)\n",
    "    # once we've gone through all the notes in the part, we can store them in a list (where the first index is the highest part and the last is the lowest)\n",
    "    this_part.append(part_notes)\n",
    "    parts_to_parse.append(this_part)\n",
    "\n",
    "# print(parts_to_parse)"
   ]
  },
  {
   "cell_type": "code",
   "execution_count": 38,
   "id": "80fce70a",
   "metadata": {},
   "outputs": [],
   "source": [
    "for p in parts_to_parse:\n",
    "    part_name = p[0]\n",
    "    with open(f'{part_name}.pickle', 'wb') as handle:\n",
    "        pickle.dump(p[1], handle, protocol=pickle.HIGHEST_PROTOCOL)\n",
    "\n",
    "#     with open('filename.pickle', 'rb') as part_name:\n",
    "#         b = pickle.load(part_name)\n",
    "\n",
    "# a == b"
   ]
  },
  {
   "cell_type": "code",
   "execution_count": null,
   "id": "8aeeb334",
   "metadata": {},
   "outputs": [],
   "source": []
  }
 ],
 "metadata": {
  "kernelspec": {
   "display_name": "Python 3 (ipykernel)",
   "language": "python",
   "name": "python3"
  },
  "language_info": {
   "codemirror_mode": {
    "name": "ipython",
    "version": 3
   },
   "file_extension": ".py",
   "mimetype": "text/x-python",
   "name": "python",
   "nbconvert_exporter": "python",
   "pygments_lexer": "ipython3",
   "version": "3.9.7"
  }
 },
 "nbformat": 4,
 "nbformat_minor": 5
}
