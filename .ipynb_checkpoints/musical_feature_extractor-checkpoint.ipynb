{
 "cells": [
  {
   "cell_type": "code",
   "execution_count": null,
   "id": "30a230f7",
   "metadata": {},
   "outputs": [],
   "source": [
    "from music21 import *\n",
    "import pickle"
   ]
  },
  {
   "cell_type": "code",
   "execution_count": null,
   "id": "229b3299",
   "metadata": {},
   "outputs": [],
   "source": [
    "# sc = corpus.parse('bach/bwv66.6')\n",
    "sc = corpus.parse('ciconia/quod_jactatur.xml')\n",
    "sc.show()"
   ]
  },
  {
   "cell_type": "code",
   "execution_count": 25,
   "id": "27811760",
   "metadata": {},
   "outputs": [
    {
     "name": "stdout",
     "output_type": "stream",
     "text": [
      "[['Soprano', [(0.0, 73), (0.5, 71), (1.0, 69), (2.0, 71), (3.0, 73), (4.0, 76), (5.0, 73), (6.0, 71), (7.0, 69), (8.0, 73), (9.0, 69), (9.5, 71), (10.0, 68), (11.0, 66), (12.0, 69), (13.0, 71), (14.0, 71), (15.0, 66), (16.0, 64), (17.0, 69), (18.0, 71), (19.0, 73), (20.0, 73), (21.0, 69), (22.0, 71), (23.0, 73), (24.0, 69), (25.0, 68), (26.0, 66), (27.0, 68), (29.0, 66), (31.0, 66), (32.0, 66), (33.0, 66), (34.0, 66), (34.5, 65), (35.0, 66)]], ['Alto', [(0.0, 64), (1.0, 66), (2.0, 64), (3.0, 64), (4.0, 64), (5.0, 64), (5.5, 69), (6.0, 68), (7.0, 64), (8.0, 68), (9.0, 66), (9.5, 68), (10.0, 65), (11.0, 61), (12.0, 66), (13.0, 66), (14.0, 64), (15.0, 63), (16.0, 61), (17.0, 61), (17.5, 66), (18.0, 64), (19.0, 64), (20.0, 69), (21.0, 66), (22.0, 66), (23.0, 68), (24.0, 66), (25.0, 66), (25.5, 65), (26.0, 66), (26.5, 54), (27.0, 61), (29.0, 61), (29.5, 62), (30.0, 64), (32.0, 62), (32.5, 61), (33.0, 59), (33.5, 61), (34.0, 62), (35.0, 61)]], ['Tenor', [(0.0, 57), (0.5, 59), (1.0, 61), (2.0, 59), (3.0, 57), (4.0, 59), (5.0, 57), (5.5, 64), (6.0, 64), (6.5, 62), (7.0, 61), (8.0, 61), (9.0, 61), (9.5, 62), (10.0, 61), (10.5, 59), (11.0, 57), (12.0, 61), (13.0, 59), (14.0, 59), (15.0, 59), (15.5, 57), (16.0, 56), (17.0, 54), (17.5, 62), (18.0, 61), (18.5, 59), (19.0, 57), (20.0, 64), (21.0, 62), (22.0, 62), (23.0, 61), (24.0, 61), (25.0, 62), (25.5, 61), (26.0, 61), (26.5, 59), (27.0, 53), (29.0, 54), (30.0, 61), (32.0, 59), (32.5, 58), (33.0, 59), (34.0, 59), (35.0, 58)]], ['Bass', [(0.0, 57), (0.5, 56), (1.0, 54), (2.0, 56), (3.0, 57), (4.0, 56), (5.0, 57), (5.5, 49), (6.0, 52), (7.0, 45), (8.0, 53), (9.0, 54), (9.5, 47), (10.0, 49), (11.0, 42), (12.0, 54), (13.0, 56), (13.5, 54), (14.0, 56), (14.5, 57), (15.0, 59), (15.5, 47), (16.0, 49), (17.0, 54), (18.0, 56), (19.0, 57), (20.0, 57), (21.0, 62), (22.0, 59), (23.0, 53), (24.0, 54), (25.0, 47), (25.5, 49), (26.0, 50), (27.0, 49), (29.0, 46), (31.0, 47), (32.0, 49), (33.0, 50), (34.0, 47), (35.0, 54)]]]\n"
     ]
    }
   ],
   "source": [
    "parts_to_parse = []\n",
    "for part in sc.parts:\n",
    "    this_part = [] # stores the name followed by a dict of the notes\n",
    "    part_notes = [] # stores the relevant data for notes and rests as a list with note, timestamp\n",
    "    measure_offset = 0\n",
    "    part_name = part[0].partName # Soprano, Alto, etc\n",
    "    this_part.append(part_name)\n",
    "    for el in part.recurse():\n",
    "        running_offset = measure_offset\n",
    "        if type(el) == stream.Measure:\n",
    "            measure_offset = el.offset # sets the offset to the measure we have arrived to\n",
    "        elif type(el) == note.Note:\n",
    "            running_offset += el.offset # adds the offset the current note exists at\n",
    "            part_notes.append((running_offset, el.pitch.midi)) # this is where we store the musical data we care about (this could be a tuple of info)\n",
    "        elif type(el) == note.Rest:\n",
    "            running_offset += el.offset # adds the offset the current note exists at\n",
    "            part_notes.append((running_offset, -1)) # rests are stored as -1\n",
    "    # once we've gone through all the notes in the part, we can store them in a list (where the first index is the highest part and the last is the lowest)\n",
    "    this_part.append(part_notes)\n",
    "    parts_to_parse.append(this_part)\n",
    "\n",
    "print(parts_to_parse)"
   ]
  },
  {
   "cell_type": "code",
   "execution_count": 26,
   "id": "80fce70a",
   "metadata": {},
   "outputs": [],
   "source": [
    "for p in parts_to_parse:\n",
    "    part_name = p[0]\n",
    "    with open(f'{part_name}.pickle', 'wb') as handle:\n",
    "        pickle.dump(p[1], handle, protocol=4)"
   ]
  },
  {
   "cell_type": "code",
   "execution_count": 27,
   "id": "adffc2dc",
   "metadata": {},
   "outputs": [
    {
     "name": "stdout",
     "output_type": "stream",
     "text": [
      "[(0.0, 73), (0.5, 71), (1.0, 69), (2.0, 71), (3.0, 73), (4.0, 76), (5.0, 73), (6.0, 71), (7.0, 69), (8.0, 73), (9.0, 69), (9.5, 71), (10.0, 68), (11.0, 66), (12.0, 69), (13.0, 71), (14.0, 71), (15.0, 66), (16.0, 64), (17.0, 69), (18.0, 71), (19.0, 73), (20.0, 73), (21.0, 69), (22.0, 71), (23.0, 73), (24.0, 69), (25.0, 68), (26.0, 66), (27.0, 68), (29.0, 66), (31.0, 66), (32.0, 66), (33.0, 66), (34.0, 66), (34.5, 65), (35.0, 66)]\n",
      "------\n",
      "[(0.0, 64), (1.0, 66), (2.0, 64), (3.0, 64), (4.0, 64), (5.0, 64), (5.5, 69), (6.0, 68), (7.0, 64), (8.0, 68), (9.0, 66), (9.5, 68), (10.0, 65), (11.0, 61), (12.0, 66), (13.0, 66), (14.0, 64), (15.0, 63), (16.0, 61), (17.0, 61), (17.5, 66), (18.0, 64), (19.0, 64), (20.0, 69), (21.0, 66), (22.0, 66), (23.0, 68), (24.0, 66), (25.0, 66), (25.5, 65), (26.0, 66), (26.5, 54), (27.0, 61), (29.0, 61), (29.5, 62), (30.0, 64), (32.0, 62), (32.5, 61), (33.0, 59), (33.5, 61), (34.0, 62), (35.0, 61)]\n",
      "------\n",
      "[(0.0, 57), (0.5, 59), (1.0, 61), (2.0, 59), (3.0, 57), (4.0, 59), (5.0, 57), (5.5, 64), (6.0, 64), (6.5, 62), (7.0, 61), (8.0, 61), (9.0, 61), (9.5, 62), (10.0, 61), (10.5, 59), (11.0, 57), (12.0, 61), (13.0, 59), (14.0, 59), (15.0, 59), (15.5, 57), (16.0, 56), (17.0, 54), (17.5, 62), (18.0, 61), (18.5, 59), (19.0, 57), (20.0, 64), (21.0, 62), (22.0, 62), (23.0, 61), (24.0, 61), (25.0, 62), (25.5, 61), (26.0, 61), (26.5, 59), (27.0, 53), (29.0, 54), (30.0, 61), (32.0, 59), (32.5, 58), (33.0, 59), (34.0, 59), (35.0, 58)]\n",
      "------\n",
      "[(0.0, 57), (0.5, 56), (1.0, 54), (2.0, 56), (3.0, 57), (4.0, 56), (5.0, 57), (5.5, 49), (6.0, 52), (7.0, 45), (8.0, 53), (9.0, 54), (9.5, 47), (10.0, 49), (11.0, 42), (12.0, 54), (13.0, 56), (13.5, 54), (14.0, 56), (14.5, 57), (15.0, 59), (15.5, 47), (16.0, 49), (17.0, 54), (18.0, 56), (19.0, 57), (20.0, 57), (21.0, 62), (22.0, 59), (23.0, 53), (24.0, 54), (25.0, 47), (25.5, 49), (26.0, 50), (27.0, 49), (29.0, 46), (31.0, 47), (32.0, 49), (33.0, 50), (34.0, 47), (35.0, 54)]\n"
     ]
    }
   ],
   "source": [
    "with open('Soprano.pickle', 'rb') as handle:\n",
    "    unserialized_sop_data = pickle.load(handle)\n",
    "with open('Alto.pickle', 'rb') as handle:\n",
    "    unserialized_alto_data = pickle.load(handle)\n",
    "with open('Tenor.pickle', 'rb') as handle:\n",
    "    unserialized_ten_data = pickle.load(handle)\n",
    "with open('Bass.pickle', 'rb') as handle:\n",
    "    unserialized_bass_data = pickle.load(handle)\n",
    "print(unserialized_sop_data)\n",
    "print('------')\n",
    "print(unserialized_alto_data)\n",
    "print('------')\n",
    "print(unserialized_ten_data)\n",
    "print('------')\n",
    "print(unserialized_bass_data)"
   ]
  },
  {
   "cell_type": "code",
   "execution_count": 28,
   "id": "6eae846f",
   "metadata": {},
   "outputs": [],
   "source": [
    "# sc.show('midi')"
   ]
  },
  {
   "cell_type": "code",
   "execution_count": 8,
   "id": "12e09289",
   "metadata": {},
   "outputs": [
    {
     "data": {
      "text/plain": [
       "'visualized_corpus.mid'"
      ]
     },
     "execution_count": 8,
     "metadata": {},
     "output_type": "execute_result"
    }
   ],
   "source": [
    "sc.write(\"midi\", \"visualized_corpus.mid\")"
   ]
  },
  {
   "cell_type": "code",
   "execution_count": 9,
   "id": "603f38e1",
   "metadata": {},
   "outputs": [],
   "source": [
    "# sc.write(\"mp3\", \"visualized_corpus.mp3\") this format is not supported by music21 yet"
   ]
  },
  {
   "cell_type": "code",
   "execution_count": null,
   "id": "14ea413a",
   "metadata": {},
   "outputs": [],
   "source": [
    "sc.append(tempo.MetronomeMark(number=10))"
   ]
  },
  {
   "cell_type": "code",
   "execution_count": null,
   "id": "4fe132e7",
   "metadata": {},
   "outputs": [],
   "source": [
    "sc.show('musicXML') # use this to change tempo to half speed"
   ]
  },
  {
   "cell_type": "code",
   "execution_count": null,
   "id": "90b3c246",
   "metadata": {},
   "outputs": [],
   "source": []
  }
 ],
 "metadata": {
  "kernelspec": {
   "display_name": "Python 3 (ipykernel)",
   "language": "python",
   "name": "python3"
  },
  "language_info": {
   "codemirror_mode": {
    "name": "ipython",
    "version": 3
   },
   "file_extension": ".py",
   "mimetype": "text/x-python",
   "name": "python",
   "nbconvert_exporter": "python",
   "pygments_lexer": "ipython3",
   "version": "3.9.7"
  }
 },
 "nbformat": 4,
 "nbformat_minor": 5
}
